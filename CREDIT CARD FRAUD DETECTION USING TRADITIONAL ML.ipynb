{
 "cells": [
  {
   "cell_type": "code",
   "execution_count": 81,
   "metadata": {},
   "outputs": [],
   "source": [
    "import pandas as pd \n",
    "from sklearn.feature_selection import RFECV\n",
    "import numpy as np\n",
    "import seaborn as sns\n",
    "from sklearn.model_selection import cross_val_score\n",
    "from sklearn import metrics\n",
    "import matplotlib.pyplot as plt\n",
    "from sklearn.linear_model import LogisticRegression\n",
    "from sklearn.preprocessing import minmax_scale\n",
    "from sklearn.model_selection import GridSearchCV\n",
    "from sklearn.ensemble import RandomForestClassifier\n",
    "import tensorflow as tf\n",
    "import warnings\n",
    "import matplotlib.gridspec as gridspec\n",
    "from sklearn.preprocessing import StandardScaler\n",
    "from sklearn.manifold import TSNE\n",
    "warnings.filterwarnings(\"ignore\")\n",
    "from scipy import stats\n",
    "from scipy.stats import shapiro\n",
    "from scipy.stats import anderson\n",
    "from sklearn.model_selection import train_test_split\n",
    "from scipy.stats import mannwhitneyu\n",
    "from sklearn.model_selection import RandomizedSearchCV\n",
    "from sklearn.model_selection import GridSearchCV\n",
    "from imblearn.over_sampling import RandomOverSampler\n",
    "from imblearn.under_sampling import RandomUnderSampler\n",
    "from sklearn.metrics import roc_curve, auc\n",
    "from sklearn.decomposition import PCA\n",
    "from imblearn.under_sampling import TomekLinks\n",
    "from imblearn.over_sampling import SMOTE\n",
    "from imblearn.under_sampling import ClusterCentroids\n",
    "from imblearn.pipeline import make_pipeline\n",
    "from sklearn import preprocessing\n",
    "from sklearn.manifold import TSNE\n",
    "from mpl_toolkits.mplot3d import Axes3D\n"
   ]
  },
  {
   "cell_type": "code",
   "execution_count": 68,
   "metadata": {},
   "outputs": [
    {
     "data": {
      "text/html": [
       "<div>\n",
       "<style scoped>\n",
       "    .dataframe tbody tr th:only-of-type {\n",
       "        vertical-align: middle;\n",
       "    }\n",
       "\n",
       "    .dataframe tbody tr th {\n",
       "        vertical-align: top;\n",
       "    }\n",
       "\n",
       "    .dataframe thead th {\n",
       "        text-align: right;\n",
       "    }\n",
       "</style>\n",
       "<table border=\"1\" class=\"dataframe\">\n",
       "  <thead>\n",
       "    <tr style=\"text-align: right;\">\n",
       "      <th></th>\n",
       "      <th>Time</th>\n",
       "      <th>V1</th>\n",
       "      <th>V2</th>\n",
       "      <th>V3</th>\n",
       "      <th>V4</th>\n",
       "      <th>V5</th>\n",
       "      <th>V6</th>\n",
       "      <th>V7</th>\n",
       "      <th>V8</th>\n",
       "      <th>V9</th>\n",
       "      <th>...</th>\n",
       "      <th>V21</th>\n",
       "      <th>V22</th>\n",
       "      <th>V23</th>\n",
       "      <th>V24</th>\n",
       "      <th>V25</th>\n",
       "      <th>V26</th>\n",
       "      <th>V27</th>\n",
       "      <th>V28</th>\n",
       "      <th>Amount</th>\n",
       "      <th>Class</th>\n",
       "    </tr>\n",
       "  </thead>\n",
       "  <tbody>\n",
       "    <tr>\n",
       "      <th>0</th>\n",
       "      <td>0.0</td>\n",
       "      <td>-1.359807</td>\n",
       "      <td>-0.072781</td>\n",
       "      <td>2.536347</td>\n",
       "      <td>1.378155</td>\n",
       "      <td>-0.338321</td>\n",
       "      <td>0.462388</td>\n",
       "      <td>0.239599</td>\n",
       "      <td>0.098698</td>\n",
       "      <td>0.363787</td>\n",
       "      <td>...</td>\n",
       "      <td>-0.018307</td>\n",
       "      <td>0.277838</td>\n",
       "      <td>-0.110474</td>\n",
       "      <td>0.066928</td>\n",
       "      <td>0.128539</td>\n",
       "      <td>-0.189115</td>\n",
       "      <td>0.133558</td>\n",
       "      <td>-0.021053</td>\n",
       "      <td>149.62</td>\n",
       "      <td>0</td>\n",
       "    </tr>\n",
       "    <tr>\n",
       "      <th>1</th>\n",
       "      <td>0.0</td>\n",
       "      <td>1.191857</td>\n",
       "      <td>0.266151</td>\n",
       "      <td>0.166480</td>\n",
       "      <td>0.448154</td>\n",
       "      <td>0.060018</td>\n",
       "      <td>-0.082361</td>\n",
       "      <td>-0.078803</td>\n",
       "      <td>0.085102</td>\n",
       "      <td>-0.255425</td>\n",
       "      <td>...</td>\n",
       "      <td>-0.225775</td>\n",
       "      <td>-0.638672</td>\n",
       "      <td>0.101288</td>\n",
       "      <td>-0.339846</td>\n",
       "      <td>0.167170</td>\n",
       "      <td>0.125895</td>\n",
       "      <td>-0.008983</td>\n",
       "      <td>0.014724</td>\n",
       "      <td>2.69</td>\n",
       "      <td>0</td>\n",
       "    </tr>\n",
       "    <tr>\n",
       "      <th>2</th>\n",
       "      <td>1.0</td>\n",
       "      <td>-1.358354</td>\n",
       "      <td>-1.340163</td>\n",
       "      <td>1.773209</td>\n",
       "      <td>0.379780</td>\n",
       "      <td>-0.503198</td>\n",
       "      <td>1.800499</td>\n",
       "      <td>0.791461</td>\n",
       "      <td>0.247676</td>\n",
       "      <td>-1.514654</td>\n",
       "      <td>...</td>\n",
       "      <td>0.247998</td>\n",
       "      <td>0.771679</td>\n",
       "      <td>0.909412</td>\n",
       "      <td>-0.689281</td>\n",
       "      <td>-0.327642</td>\n",
       "      <td>-0.139097</td>\n",
       "      <td>-0.055353</td>\n",
       "      <td>-0.059752</td>\n",
       "      <td>378.66</td>\n",
       "      <td>0</td>\n",
       "    </tr>\n",
       "    <tr>\n",
       "      <th>3</th>\n",
       "      <td>1.0</td>\n",
       "      <td>-0.966272</td>\n",
       "      <td>-0.185226</td>\n",
       "      <td>1.792993</td>\n",
       "      <td>-0.863291</td>\n",
       "      <td>-0.010309</td>\n",
       "      <td>1.247203</td>\n",
       "      <td>0.237609</td>\n",
       "      <td>0.377436</td>\n",
       "      <td>-1.387024</td>\n",
       "      <td>...</td>\n",
       "      <td>-0.108300</td>\n",
       "      <td>0.005274</td>\n",
       "      <td>-0.190321</td>\n",
       "      <td>-1.175575</td>\n",
       "      <td>0.647376</td>\n",
       "      <td>-0.221929</td>\n",
       "      <td>0.062723</td>\n",
       "      <td>0.061458</td>\n",
       "      <td>123.50</td>\n",
       "      <td>0</td>\n",
       "    </tr>\n",
       "    <tr>\n",
       "      <th>4</th>\n",
       "      <td>2.0</td>\n",
       "      <td>-1.158233</td>\n",
       "      <td>0.877737</td>\n",
       "      <td>1.548718</td>\n",
       "      <td>0.403034</td>\n",
       "      <td>-0.407193</td>\n",
       "      <td>0.095921</td>\n",
       "      <td>0.592941</td>\n",
       "      <td>-0.270533</td>\n",
       "      <td>0.817739</td>\n",
       "      <td>...</td>\n",
       "      <td>-0.009431</td>\n",
       "      <td>0.798278</td>\n",
       "      <td>-0.137458</td>\n",
       "      <td>0.141267</td>\n",
       "      <td>-0.206010</td>\n",
       "      <td>0.502292</td>\n",
       "      <td>0.219422</td>\n",
       "      <td>0.215153</td>\n",
       "      <td>69.99</td>\n",
       "      <td>0</td>\n",
       "    </tr>\n",
       "  </tbody>\n",
       "</table>\n",
       "<p>5 rows × 31 columns</p>\n",
       "</div>"
      ],
      "text/plain": [
       "   Time        V1        V2        V3        V4        V5        V6        V7  \\\n",
       "0   0.0 -1.359807 -0.072781  2.536347  1.378155 -0.338321  0.462388  0.239599   \n",
       "1   0.0  1.191857  0.266151  0.166480  0.448154  0.060018 -0.082361 -0.078803   \n",
       "2   1.0 -1.358354 -1.340163  1.773209  0.379780 -0.503198  1.800499  0.791461   \n",
       "3   1.0 -0.966272 -0.185226  1.792993 -0.863291 -0.010309  1.247203  0.237609   \n",
       "4   2.0 -1.158233  0.877737  1.548718  0.403034 -0.407193  0.095921  0.592941   \n",
       "\n",
       "         V8        V9  ...       V21       V22       V23       V24       V25  \\\n",
       "0  0.098698  0.363787  ... -0.018307  0.277838 -0.110474  0.066928  0.128539   \n",
       "1  0.085102 -0.255425  ... -0.225775 -0.638672  0.101288 -0.339846  0.167170   \n",
       "2  0.247676 -1.514654  ...  0.247998  0.771679  0.909412 -0.689281 -0.327642   \n",
       "3  0.377436 -1.387024  ... -0.108300  0.005274 -0.190321 -1.175575  0.647376   \n",
       "4 -0.270533  0.817739  ... -0.009431  0.798278 -0.137458  0.141267 -0.206010   \n",
       "\n",
       "        V26       V27       V28  Amount  Class  \n",
       "0 -0.189115  0.133558 -0.021053  149.62      0  \n",
       "1  0.125895 -0.008983  0.014724    2.69      0  \n",
       "2 -0.139097 -0.055353 -0.059752  378.66      0  \n",
       "3 -0.221929  0.062723  0.061458  123.50      0  \n",
       "4  0.502292  0.219422  0.215153   69.99      0  \n",
       "\n",
       "[5 rows x 31 columns]"
      ]
     },
     "execution_count": 68,
     "metadata": {},
     "output_type": "execute_result"
    }
   ],
   "source": [
    "data = pd.read_csv('/Users/ankitkothari/Documents/ensembel/creditcard.csv')\n",
    "data.head()"
   ]
  },
  {
   "cell_type": "code",
   "execution_count": 69,
   "metadata": {},
   "outputs": [
    {
     "data": {
      "text/plain": [
       "Index(['Time', 'V1', 'V2', 'V3', 'V4', 'V5', 'V6', 'V7', 'V8', 'V9', 'V10',\n",
       "       'V11', 'V12', 'V13', 'V14', 'V15', 'V16', 'V17', 'V18', 'V19', 'V20',\n",
       "       'V21', 'V22', 'V23', 'V24', 'V25', 'V26', 'V27', 'V28', 'Amount',\n",
       "       'Class'],\n",
       "      dtype='object')"
      ]
     },
     "execution_count": 69,
     "metadata": {},
     "output_type": "execute_result"
    }
   ],
   "source": [
    "data.columns"
   ]
  },
  {
   "cell_type": "code",
   "execution_count": 32,
   "metadata": {},
   "outputs": [],
   "source": [
    "X = data[['V27', 'V4', 'V10', 'V14', 'V28', 'V20', 'V21', 'V16', 'V13', 'V24']]\n",
    "y = data['Class']"
   ]
  },
  {
   "cell_type": "code",
   "execution_count": 33,
   "metadata": {},
   "outputs": [
    {
     "data": {
      "text/html": [
       "<div>\n",
       "<style scoped>\n",
       "    .dataframe tbody tr th:only-of-type {\n",
       "        vertical-align: middle;\n",
       "    }\n",
       "\n",
       "    .dataframe tbody tr th {\n",
       "        vertical-align: top;\n",
       "    }\n",
       "\n",
       "    .dataframe thead th {\n",
       "        text-align: right;\n",
       "    }\n",
       "</style>\n",
       "<table border=\"1\" class=\"dataframe\">\n",
       "  <thead>\n",
       "    <tr style=\"text-align: right;\">\n",
       "      <th></th>\n",
       "      <th>V27</th>\n",
       "      <th>V4</th>\n",
       "      <th>V10</th>\n",
       "      <th>V14</th>\n",
       "      <th>V28</th>\n",
       "      <th>V20</th>\n",
       "      <th>V21</th>\n",
       "      <th>V16</th>\n",
       "      <th>V13</th>\n",
       "      <th>V24</th>\n",
       "    </tr>\n",
       "  </thead>\n",
       "  <tbody>\n",
       "    <tr>\n",
       "      <th>0</th>\n",
       "      <td>0.133558</td>\n",
       "      <td>1.378155</td>\n",
       "      <td>0.090794</td>\n",
       "      <td>-0.311169</td>\n",
       "      <td>-0.021053</td>\n",
       "      <td>0.251412</td>\n",
       "      <td>-0.018307</td>\n",
       "      <td>-0.470401</td>\n",
       "      <td>-0.991390</td>\n",
       "      <td>0.066928</td>\n",
       "    </tr>\n",
       "    <tr>\n",
       "      <th>1</th>\n",
       "      <td>-0.008983</td>\n",
       "      <td>0.448154</td>\n",
       "      <td>-0.166974</td>\n",
       "      <td>-0.143772</td>\n",
       "      <td>0.014724</td>\n",
       "      <td>-0.069083</td>\n",
       "      <td>-0.225775</td>\n",
       "      <td>0.463917</td>\n",
       "      <td>0.489095</td>\n",
       "      <td>-0.339846</td>\n",
       "    </tr>\n",
       "    <tr>\n",
       "      <th>2</th>\n",
       "      <td>-0.055353</td>\n",
       "      <td>0.379780</td>\n",
       "      <td>0.207643</td>\n",
       "      <td>-0.165946</td>\n",
       "      <td>-0.059752</td>\n",
       "      <td>0.524980</td>\n",
       "      <td>0.247998</td>\n",
       "      <td>-2.890083</td>\n",
       "      <td>0.717293</td>\n",
       "      <td>-0.689281</td>\n",
       "    </tr>\n",
       "    <tr>\n",
       "      <th>3</th>\n",
       "      <td>0.062723</td>\n",
       "      <td>-0.863291</td>\n",
       "      <td>-0.054952</td>\n",
       "      <td>-0.287924</td>\n",
       "      <td>0.061458</td>\n",
       "      <td>-0.208038</td>\n",
       "      <td>-0.108300</td>\n",
       "      <td>-1.059647</td>\n",
       "      <td>0.507757</td>\n",
       "      <td>-1.175575</td>\n",
       "    </tr>\n",
       "    <tr>\n",
       "      <th>4</th>\n",
       "      <td>0.219422</td>\n",
       "      <td>0.403034</td>\n",
       "      <td>0.753074</td>\n",
       "      <td>-1.119670</td>\n",
       "      <td>0.215153</td>\n",
       "      <td>0.408542</td>\n",
       "      <td>-0.009431</td>\n",
       "      <td>-0.451449</td>\n",
       "      <td>1.345852</td>\n",
       "      <td>0.141267</td>\n",
       "    </tr>\n",
       "  </tbody>\n",
       "</table>\n",
       "</div>"
      ],
      "text/plain": [
       "        V27        V4       V10       V14       V28       V20       V21  \\\n",
       "0  0.133558  1.378155  0.090794 -0.311169 -0.021053  0.251412 -0.018307   \n",
       "1 -0.008983  0.448154 -0.166974 -0.143772  0.014724 -0.069083 -0.225775   \n",
       "2 -0.055353  0.379780  0.207643 -0.165946 -0.059752  0.524980  0.247998   \n",
       "3  0.062723 -0.863291 -0.054952 -0.287924  0.061458 -0.208038 -0.108300   \n",
       "4  0.219422  0.403034  0.753074 -1.119670  0.215153  0.408542 -0.009431   \n",
       "\n",
       "        V16       V13       V24  \n",
       "0 -0.470401 -0.991390  0.066928  \n",
       "1  0.463917  0.489095 -0.339846  \n",
       "2 -2.890083  0.717293 -0.689281  \n",
       "3 -1.059647  0.507757 -1.175575  \n",
       "4 -0.451449  1.345852  0.141267  "
      ]
     },
     "execution_count": 33,
     "metadata": {},
     "output_type": "execute_result"
    }
   ],
   "source": [
    "X.head()"
   ]
  },
  {
   "cell_type": "code",
   "execution_count": 39,
   "metadata": {},
   "outputs": [],
   "source": [
    "X= data[['V27', 'V4', 'V10', 'V14', 'V28', 'V20', 'V21', 'V16', 'V13', 'V24']]\n",
    "X = X.loc[:,:].apply(lambda x: round(x,2))\n",
    "mm_scaler = preprocessing.StandardScaler()\n",
    "X.columns\n",
    "X[['V27', 'V4', 'V10', 'V14', 'V28', 'V20', 'V21', 'V16', 'V13', 'V24']] = mm_scaler.fit_transform(X[['V27', 'V4', 'V10', 'V14', 'V28', 'V20', 'V21', 'V16', 'V13', 'V24']])\n"
   ]
  },
  {
   "cell_type": "code",
   "execution_count": 40,
   "metadata": {},
   "outputs": [
    {
     "data": {
      "text/html": [
       "<div>\n",
       "<style scoped>\n",
       "    .dataframe tbody tr th:only-of-type {\n",
       "        vertical-align: middle;\n",
       "    }\n",
       "\n",
       "    .dataframe tbody tr th {\n",
       "        vertical-align: top;\n",
       "    }\n",
       "\n",
       "    .dataframe thead th {\n",
       "        text-align: right;\n",
       "    }\n",
       "</style>\n",
       "<table border=\"1\" class=\"dataframe\">\n",
       "  <thead>\n",
       "    <tr style=\"text-align: right;\">\n",
       "      <th></th>\n",
       "      <th>V27</th>\n",
       "      <th>V4</th>\n",
       "      <th>V10</th>\n",
       "      <th>V14</th>\n",
       "      <th>V28</th>\n",
       "      <th>V20</th>\n",
       "      <th>V21</th>\n",
       "      <th>V16</th>\n",
       "      <th>V13</th>\n",
       "      <th>V24</th>\n",
       "    </tr>\n",
       "  </thead>\n",
       "  <tbody>\n",
       "    <tr>\n",
       "      <th>0</th>\n",
       "      <td>0.322064</td>\n",
       "      <td>0.974668</td>\n",
       "      <td>0.082659</td>\n",
       "      <td>-0.323391</td>\n",
       "      <td>-0.060580</td>\n",
       "      <td>0.324273</td>\n",
       "      <td>-0.027232</td>\n",
       "      <td>-0.536365</td>\n",
       "      <td>-0.994706</td>\n",
       "      <td>0.115571</td>\n",
       "    </tr>\n",
       "    <tr>\n",
       "      <th>1</th>\n",
       "      <td>-0.024772</td>\n",
       "      <td>0.317827</td>\n",
       "      <td>-0.156125</td>\n",
       "      <td>-0.146050</td>\n",
       "      <td>0.030300</td>\n",
       "      <td>-0.090809</td>\n",
       "      <td>-0.313132</td>\n",
       "      <td>0.524966</td>\n",
       "      <td>0.492316</td>\n",
       "      <td>-0.561385</td>\n",
       "    </tr>\n",
       "    <tr>\n",
       "      <th>2</th>\n",
       "      <td>-0.148642</td>\n",
       "      <td>0.268388</td>\n",
       "      <td>0.192867</td>\n",
       "      <td>-0.177345</td>\n",
       "      <td>-0.181754</td>\n",
       "      <td>0.674499</td>\n",
       "      <td>0.340354</td>\n",
       "      <td>-3.298108</td>\n",
       "      <td>0.723408</td>\n",
       "      <td>-1.139274</td>\n",
       "    </tr>\n",
       "    <tr>\n",
       "      <th>3</th>\n",
       "      <td>0.148646</td>\n",
       "      <td>-0.607399</td>\n",
       "      <td>-0.045917</td>\n",
       "      <td>-0.302528</td>\n",
       "      <td>0.181767</td>\n",
       "      <td>-0.272408</td>\n",
       "      <td>-0.149761</td>\n",
       "      <td>-1.209683</td>\n",
       "      <td>0.512411</td>\n",
       "      <td>-1.948319</td>\n",
       "    </tr>\n",
       "    <tr>\n",
       "      <th>4</th>\n",
       "      <td>0.545031</td>\n",
       "      <td>0.282513</td>\n",
       "      <td>0.688803</td>\n",
       "      <td>-1.168370</td>\n",
       "      <td>0.666463</td>\n",
       "      <td>0.531815</td>\n",
       "      <td>-0.013618</td>\n",
       "      <td>-0.513541</td>\n",
       "      <td>1.356397</td>\n",
       "      <td>0.231149</td>\n",
       "    </tr>\n",
       "  </tbody>\n",
       "</table>\n",
       "</div>"
      ],
      "text/plain": [
       "        V27        V4       V10       V14       V28       V20       V21  \\\n",
       "0  0.322064  0.974668  0.082659 -0.323391 -0.060580  0.324273 -0.027232   \n",
       "1 -0.024772  0.317827 -0.156125 -0.146050  0.030300 -0.090809 -0.313132   \n",
       "2 -0.148642  0.268388  0.192867 -0.177345 -0.181754  0.674499  0.340354   \n",
       "3  0.148646 -0.607399 -0.045917 -0.302528  0.181767 -0.272408 -0.149761   \n",
       "4  0.545031  0.282513  0.688803 -1.168370  0.666463  0.531815 -0.013618   \n",
       "\n",
       "        V16       V13       V24  \n",
       "0 -0.536365 -0.994706  0.115571  \n",
       "1  0.524966  0.492316 -0.561385  \n",
       "2 -3.298108  0.723408 -1.139274  \n",
       "3 -1.209683  0.512411 -1.948319  \n",
       "4 -0.513541  1.356397  0.231149  "
      ]
     },
     "execution_count": 40,
     "metadata": {},
     "output_type": "execute_result"
    }
   ],
   "source": [
    "X.head()"
   ]
  },
  {
   "cell_type": "code",
   "execution_count": 41,
   "metadata": {},
   "outputs": [],
   "source": [
    "def logist_regression(X_sampling, y_sampling, sampling_type,XR_test, yR_test):\n",
    "   \n",
    "   #### logistic regression part and grid search \n",
    "   lr7 = LogisticRegression()\n",
    "   penalty = ['l1', 'l2']\n",
    "   C = [0.001,0.01,0.1,1,10,100]\n",
    "   hyperparameters = dict(C=C, penalty=penalty)\n",
    "   gridsearch = GridSearchCV(lr7, hyperparameters, cv=3, verbose=1)\n",
    "   best_model_gs = gridsearch.fit(X_sampling, y_sampling)\n",
    "   predictions7 = best_model_gs.predict(XR_test)\n",
    "\n",
    "   #### printing the right metrics\n",
    "   print(metrics.classification_report(yR_test,predictions7))\n",
    "   print(metrics.confusion_matrix(yR_test,predictions7))\n",
    "    \n",
    "    \n",
    "   #### plotting the sampling distribution\n",
    "   datafra = pd.DataFrame(data=y_sampling, index=range(len(y_sampling)), columns=['Class'])\n",
    "   datafra.Class.value_counts().index \n",
    "   #fig, ((ax1, ax2), (ax3, ax4)) = plt.subplots(2, 2, sharex=False, sharey=False,figsize=[12,12])\n",
    "   fig, ((ax1, ax2, ax3)) = plt.subplots(1, 3, sharex=False, sharey=False,figsize=[12,4])\n",
    "   sns.barplot(x=datafra.Class.value_counts().index, y=datafra.Class.value_counts(), data=datafra, ax = ax1)\n",
    "   \n",
    "   ####plotting the heatmap for confusion matrix\n",
    "   metric = metrics.confusion_matrix(yR_test,predictions7)\n",
    "   confusion_dataframe = pd.DataFrame(data=metric, index=['Actual_Positive','Actual_Negative'], columns=['Guessed_Positive', 'Guessed_Negative'])\n",
    "   #confusion_dataframe\n",
    "   sns.heatmap(confusion_dataframe, annot=True, fmt=\"d\", cmap=\"YlGnBu\", ax = ax2)\n",
    "   \n",
    "    \n",
    "   #### plotting the ROC and AUC curve\n",
    "   fpr, tpr, _ = (metrics.roc_curve(yR_test,predictions7))\n",
    "   ax3.plot(fpr, tpr)\n",
    "   roc_auc = auc(fpr, tpr)\n",
    "   ax3.plot([0, 1], [0, 1], 'k--', label='AUC = %0.3f'% roc_auc)\n",
    "   ax3.legend(loc='lower right')\n",
    "   ax3.plot([0,1],[0,1],'r--')\n",
    "   ax3.set_xlim([-0.1,1.0])\n",
    "   ax3.set_ylim([-0.1,1.01])\n",
    "   ax3.set_ylabel('True Positive Rate')\n",
    "   ax3.set_xlabel('False Positive Rate')\n",
    "   plt.tight_layout()\n",
    "   plt.show()\n",
    "   print(f'Area Under the Curve: {round(roc_auc,2)}')"
   ]
  },
  {
   "cell_type": "code",
   "execution_count": 43,
   "metadata": {},
   "outputs": [],
   "source": [
    "XN_train, XN_test, yN_train, yN_test = train_test_split(X, y, test_size=0.33, random_state=42)"
   ]
  },
  {
   "cell_type": "code",
   "execution_count": 115,
   "metadata": {},
   "outputs": [
    {
     "name": "stdout",
     "output_type": "stream",
     "text": [
      "Fitting 3 folds for each of 12 candidates, totalling 36 fits\n",
      "              precision    recall  f1-score   support\n",
      "\n",
      "           0       1.00      0.97      0.98     93838\n",
      "           1       0.05      0.91      0.09       149\n",
      "\n",
      "    accuracy                           0.97     93987\n",
      "   macro avg       0.52      0.94      0.54     93987\n",
      "weighted avg       1.00      0.97      0.98     93987\n",
      "\n",
      "[[90997  2841]\n",
      " [   13   136]]\n"
     ]
    },
    {
     "name": "stderr",
     "output_type": "stream",
     "text": [
      "[Parallel(n_jobs=1)]: Using backend SequentialBackend with 1 concurrent workers.\n",
      "[Parallel(n_jobs=1)]: Done  36 out of  36 | elapsed:    0.0s finished\n"
     ]
    },
    {
     "data": {
      "image/png": "[encoded data removed]",
      "text/plain": [
       "<Figure size 864x288 with 4 Axes>"
      ]
     },
     "metadata": {
      "needs_background": "light"
     },
     "output_type": "display_data"
    },
    {
     "name": "stdout",
     "output_type": "stream",
     "text": [
      "Area Under the Curve: 0.94\n"
     ]
    }
   ],
   "source": [
    "rus = RandomUnderSampler(random_state=0)\n",
    "rus.fit(XN_train, yN_train)\n",
    "X_smn, y_smn = rus.fit_resample(XN_train, yN_train)\n",
    "\n",
    "logist_regression(X_smn, y_smn, \"RANDOM UNDER-sampling\",XN_test, yN_test)"
   ]
  },
  {
   "cell_type": "code",
   "execution_count": null,
   "metadata": {},
   "outputs": [],
   "source": [
    "######EFFECT OF PCA ON MODEL PERFORMANCE"
   ]
  },
  {
   "cell_type": "code",
   "execution_count": 144,
   "metadata": {},
   "outputs": [],
   "source": [
    "pca = PCA(.99)\n",
    "principalComponents = pca.fit_transform(X)\n",
    "principalDf = pd.DataFrame(data = principalComponents\n",
    "             , columns = ['principal_component_1', 'principal_component_2'])"
   ]
  },
  {
   "cell_type": "code",
   "execution_count": 145,
   "metadata": {},
   "outputs": [
    {
     "data": {
      "text/html": [
       "<div>\n",
       "<style scoped>\n",
       "    .dataframe tbody tr th:only-of-type {\n",
       "        vertical-align: middle;\n",
       "    }\n",
       "\n",
       "    .dataframe tbody tr th {\n",
       "        vertical-align: top;\n",
       "    }\n",
       "\n",
       "    .dataframe thead th {\n",
       "        text-align: right;\n",
       "    }\n",
       "</style>\n",
       "<table border=\"1\" class=\"dataframe\">\n",
       "  <thead>\n",
       "    <tr style=\"text-align: right;\">\n",
       "      <th></th>\n",
       "      <th>principal_component_1</th>\n",
       "      <th>principal_component_2</th>\n",
       "    </tr>\n",
       "  </thead>\n",
       "  <tbody>\n",
       "    <tr>\n",
       "      <th>0</th>\n",
       "      <td>0.125725</td>\n",
       "      <td>-0.479107</td>\n",
       "    </tr>\n",
       "    <tr>\n",
       "      <th>1</th>\n",
       "      <td>0.386067</td>\n",
       "      <td>0.531411</td>\n",
       "    </tr>\n",
       "    <tr>\n",
       "      <th>2</th>\n",
       "      <td>0.324796</td>\n",
       "      <td>-0.044122</td>\n",
       "    </tr>\n",
       "    <tr>\n",
       "      <th>3</th>\n",
       "      <td>0.995606</td>\n",
       "      <td>1.076000</td>\n",
       "    </tr>\n",
       "    <tr>\n",
       "      <th>4</th>\n",
       "      <td>0.113791</td>\n",
       "      <td>0.677320</td>\n",
       "    </tr>\n",
       "  </tbody>\n",
       "</table>\n",
       "</div>"
      ],
      "text/plain": [
       "   principal_component_1  principal_component_2\n",
       "0               0.125725              -0.479107\n",
       "1               0.386067               0.531411\n",
       "2               0.324796              -0.044122\n",
       "3               0.995606               1.076000\n",
       "4               0.113791               0.677320"
      ]
     },
     "execution_count": 145,
     "metadata": {},
     "output_type": "execute_result"
    }
   ],
   "source": [
    "principalDf.head()"
   ]
  },
  {
   "cell_type": "code",
   "execution_count": 146,
   "metadata": {},
   "outputs": [],
   "source": [
    "finalDf = pd.concat([principalDf, data['Class']], axis = 1)"
   ]
  },
  {
   "cell_type": "code",
   "execution_count": 147,
   "metadata": {},
   "outputs": [
    {
     "data": {
      "text/html": [
       "<div>\n",
       "<style scoped>\n",
       "    .dataframe tbody tr th:only-of-type {\n",
       "        vertical-align: middle;\n",
       "    }\n",
       "\n",
       "    .dataframe tbody tr th {\n",
       "        vertical-align: top;\n",
       "    }\n",
       "\n",
       "    .dataframe thead th {\n",
       "        text-align: right;\n",
       "    }\n",
       "</style>\n",
       "<table border=\"1\" class=\"dataframe\">\n",
       "  <thead>\n",
       "    <tr style=\"text-align: right;\">\n",
       "      <th></th>\n",
       "      <th>principal_component_1</th>\n",
       "      <th>principal_component_2</th>\n",
       "      <th>Class</th>\n",
       "    </tr>\n",
       "  </thead>\n",
       "  <tbody>\n",
       "    <tr>\n",
       "      <th>0</th>\n",
       "      <td>0.125725</td>\n",
       "      <td>-0.479107</td>\n",
       "      <td>0</td>\n",
       "    </tr>\n",
       "    <tr>\n",
       "      <th>1</th>\n",
       "      <td>0.386067</td>\n",
       "      <td>0.531411</td>\n",
       "      <td>0</td>\n",
       "    </tr>\n",
       "    <tr>\n",
       "      <th>2</th>\n",
       "      <td>0.324796</td>\n",
       "      <td>-0.044122</td>\n",
       "      <td>0</td>\n",
       "    </tr>\n",
       "    <tr>\n",
       "      <th>3</th>\n",
       "      <td>0.995606</td>\n",
       "      <td>1.076000</td>\n",
       "      <td>0</td>\n",
       "    </tr>\n",
       "    <tr>\n",
       "      <th>4</th>\n",
       "      <td>0.113791</td>\n",
       "      <td>0.677320</td>\n",
       "      <td>0</td>\n",
       "    </tr>\n",
       "  </tbody>\n",
       "</table>\n",
       "</div>"
      ],
      "text/plain": [
       "   principal_component_1  principal_component_2  Class\n",
       "0               0.125725              -0.479107      0\n",
       "1               0.386067               0.531411      0\n",
       "2               0.324796              -0.044122      0\n",
       "3               0.995606               1.076000      0\n",
       "4               0.113791               0.677320      0"
      ]
     },
     "execution_count": 147,
     "metadata": {},
     "output_type": "execute_result"
    }
   ],
   "source": [
    "finalDf.head()"
   ]
  },
  {
   "cell_type": "code",
   "execution_count": 148,
   "metadata": {},
   "outputs": [
    {
     "data": {
      "text/plain": [
       "array([0.50000906, 0.49999094])"
      ]
     },
     "execution_count": 148,
     "metadata": {},
     "output_type": "execute_result"
    }
   ],
   "source": [
    "pca.explained_variance_ratio_"
   ]
  },
  {
   "cell_type": "code",
   "execution_count": 149,
   "metadata": {},
   "outputs": [
    {
     "data": {
      "text/plain": [
       "Index(['principal_component_1', 'principal_component_2', 'Class'], dtype='object')"
      ]
     },
     "execution_count": 149,
     "metadata": {},
     "output_type": "execute_result"
    }
   ],
   "source": [
    "features = finalDf.columns\n",
    "features"
   ]
  },
  {
   "cell_type": "code",
   "execution_count": 150,
   "metadata": {},
   "outputs": [
    {
     "data": {
      "text/html": [
       "<div>\n",
       "<style scoped>\n",
       "    .dataframe tbody tr th:only-of-type {\n",
       "        vertical-align: middle;\n",
       "    }\n",
       "\n",
       "    .dataframe tbody tr th {\n",
       "        vertical-align: top;\n",
       "    }\n",
       "\n",
       "    .dataframe thead th {\n",
       "        text-align: right;\n",
       "    }\n",
       "</style>\n",
       "<table border=\"1\" class=\"dataframe\">\n",
       "  <thead>\n",
       "    <tr style=\"text-align: right;\">\n",
       "      <th></th>\n",
       "      <th>principal_component_1</th>\n",
       "      <th>principal_component_2</th>\n",
       "      <th>Class</th>\n",
       "    </tr>\n",
       "  </thead>\n",
       "  <tbody>\n",
       "    <tr>\n",
       "      <th>0</th>\n",
       "      <td>0.125725</td>\n",
       "      <td>-0.479107</td>\n",
       "      <td>0</td>\n",
       "    </tr>\n",
       "    <tr>\n",
       "      <th>1</th>\n",
       "      <td>0.386067</td>\n",
       "      <td>0.531411</td>\n",
       "      <td>0</td>\n",
       "    </tr>\n",
       "    <tr>\n",
       "      <th>2</th>\n",
       "      <td>0.324796</td>\n",
       "      <td>-0.044122</td>\n",
       "      <td>0</td>\n",
       "    </tr>\n",
       "    <tr>\n",
       "      <th>3</th>\n",
       "      <td>0.995606</td>\n",
       "      <td>1.076000</td>\n",
       "      <td>0</td>\n",
       "    </tr>\n",
       "    <tr>\n",
       "      <th>4</th>\n",
       "      <td>0.113791</td>\n",
       "      <td>0.677320</td>\n",
       "      <td>0</td>\n",
       "    </tr>\n",
       "  </tbody>\n",
       "</table>\n",
       "</div>"
      ],
      "text/plain": [
       "   principal_component_1  principal_component_2  Class\n",
       "0               0.125725              -0.479107      0\n",
       "1               0.386067               0.531411      0\n",
       "2               0.324796              -0.044122      0\n",
       "3               0.995606               1.076000      0\n",
       "4               0.113791               0.677320      0"
      ]
     },
     "execution_count": 150,
     "metadata": {},
     "output_type": "execute_result"
    }
   ],
   "source": [
    "finalDf.head()"
   ]
  },
  {
   "cell_type": "code",
   "execution_count": 151,
   "metadata": {},
   "outputs": [
    {
     "name": "stdout",
     "output_type": "stream",
     "text": [
      "0\n",
      "0\n",
      "<class 'str'> <class 'int'>\n",
      "#ffeb00\n",
      "   principal_component_1  principal_component_2  Class\n",
      "0               0.125725              -0.479107      0\n",
      "1               0.386067               0.531411      0\n",
      "2               0.324796              -0.044122      0\n",
      "3               0.995606               1.076000      0\n",
      "4               0.113791               0.677320      0\n",
      "1\n",
      "1\n",
      "<class 'str'> <class 'int'>\n",
      "#457c39\n",
      "      principal_component_1  principal_component_2  Class\n",
      "541                0.739444               2.272330      1\n",
      "623                0.299577               1.388307      1\n",
      "4920               0.696173               0.362007      1\n",
      "6108               4.406050               1.991300      1\n",
      "6329               3.698710               5.729770      1\n"
     ]
    },
    {
     "data": {
      "image/png": "[encoded data removed]",
      "text/plain": [
       "<Figure size 432x288 with 1 Axes>"
      ]
     },
     "metadata": {
      "needs_background": "light"
     },
     "output_type": "display_data"
    }
   ],
   "source": [
    "fig = plt.figure()\n",
    "ax = fig.add_subplot(111)\n",
    "color={'0':'#ffeb00', '1': '#457c39'}\n",
    "for i,k in enumerate(color.keys()):\n",
    "  print(i)\n",
    "  print(k)\n",
    "  print(type(k), type(i))\n",
    "  print(color[k])\n",
    "  finalDf_temp = finalDf[finalDf['Class']==i]\n",
    "  print(finalDf_temp.head())\n",
    "  #ax = fig.add_subplot(111, projection='3d')\n",
    "  ax.scatter(finalDf_temp['principal_component_1'],finalDf_temp['principal_component_2'], c=color[k])\n",
    "plt.show()\n"
   ]
  },
  {
   "cell_type": "code",
   "execution_count": 152,
   "metadata": {},
   "outputs": [],
   "source": [
    "X_pca= finalDf[features].drop('Class',axis=1)\n",
    "y_pca = finalDf['Class']\n",
    "\n",
    "XP_train, XP_test, yP_train, yP_test = train_test_split(X_pca, y_pca, test_size=0.33, random_state=42)\n"
   ]
  },
  {
   "cell_type": "code",
   "execution_count": 153,
   "metadata": {},
   "outputs": [
    {
     "name": "stdout",
     "output_type": "stream",
     "text": [
      "686\n",
      "Fitting 3 folds for each of 12 candidates, totalling 36 fits\n",
      "              precision    recall  f1-score   support\n",
      "\n",
      "           0       1.00      0.93      0.97     93838\n",
      "           1       0.02      0.86      0.04       149\n",
      "\n",
      "    accuracy                           0.93     93987\n",
      "   macro avg       0.51      0.90      0.50     93987\n",
      "weighted avg       1.00      0.93      0.96     93987\n",
      "\n",
      "[[87715  6123]\n",
      " [   21   128]]\n"
     ]
    },
    {
     "name": "stderr",
     "output_type": "stream",
     "text": [
      "[Parallel(n_jobs=1)]: Using backend SequentialBackend with 1 concurrent workers.\n",
      "[Parallel(n_jobs=1)]: Done  36 out of  36 | elapsed:    0.0s finished\n"
     ]
    },
    {
     "data": {
      "image/png": "[encoded data removed]",
      "text/plain": [
       "<Figure size 864x288 with 4 Axes>"
      ]
     },
     "metadata": {
      "needs_background": "light"
     },
     "output_type": "display_data"
    },
    {
     "name": "stdout",
     "output_type": "stream",
     "text": [
      "Area Under the Curve: 0.9\n"
     ]
    }
   ],
   "source": [
    "rus = RandomUnderSampler(random_state=0)\n",
    "rus.fit(XP_train, yP_train)\n",
    "X_pca, y_pca = rus.fit_resample(XP_train, yP_train)\n",
    "print(len(X_pca))\n",
    "\n",
    "\n",
    "\n",
    "logist_regression(X_pca, y_pca, \"RANDOM UNDER-sampling\",XP_test, yP_test)"
   ]
  },
  {
   "cell_type": "code",
   "execution_count": 154,
   "metadata": {},
   "outputs": [
    {
     "name": "stdout",
     "output_type": "stream",
     "text": [
      "0\n",
      "0\n",
      "<class 'str'> <class 'int'>\n",
      "#ffeb00\n",
      "   principal_component_1  principal_component_2  Class\n",
      "0               0.125725              -0.479107      0\n",
      "1               0.386067               0.531411      0\n",
      "2               0.324796              -0.044122      0\n",
      "3               0.995606               1.076000      0\n",
      "4               0.113791               0.677320      0\n",
      "1\n",
      "1\n",
      "<class 'str'> <class 'int'>\n",
      "#457c39\n",
      "      principal_component_1  principal_component_2  Class\n",
      "541                0.739444               2.272330      1\n",
      "623                0.299577               1.388307      1\n",
      "4920               0.696173               0.362007      1\n",
      "6108               4.406050               1.991300      1\n",
      "6329               3.698710               5.729770      1\n"
     ]
    },
    {
     "data": {
      "image/png": "[encoded data removed]",
      "text/plain": [
       "<Figure size 432x288 with 1 Axes>"
      ]
     },
     "metadata": {
      "needs_background": "light"
     },
     "output_type": "display_data"
    }
   ],
   "source": [
    "fig1 = plt.figure()\n",
    "ax1 = fig1.add_subplot(111)\n",
    "color={'0':'#ffeb00', '1': '#457c39'}\n",
    "for i,k in enumerate(color.keys()):\n",
    "  print(i)\n",
    "  print(k)\n",
    "  print(type(k), type(i))\n",
    "  print(color[k])\n",
    "  finalDf_temp = finalDf[finalDf['Class']==i]\n",
    "  print(finalDf_temp.head())\n",
    "  #ax = fig.add_subplot(111, projection='3d')\n",
    "  ax1.scatter(finalDf_temp['principal_component_1'],finalDf_temp['principal_component_2'], c=color[k])\n",
    "plt.show()\n"
   ]
  },
  {
   "cell_type": "code",
   "execution_count": 155,
   "metadata": {},
   "outputs": [],
   "source": [
    "#### EFFECT OF t-SME on MODEL PERFORMANCE\n",
    "model = TSNE(n_components=2) #n_components means the lower dimension\n",
    "low_dim_data = model.fit_transform(X)"
   ]
  },
  {
   "cell_type": "code",
   "execution_count": null,
   "metadata": {},
   "outputs": [],
   "source": []
  }
 ],
 "metadata": {
  "kernelspec": {
   "display_name": "Python 3",
   "language": "python",
   "name": "python3"
  },
  "language_info": {
   "codemirror_mode": {
    "name": "ipython",
    "version": 3
   },
   "file_extension": ".py",
   "mimetype": "text/x-python",
   "name": "python",
   "nbconvert_exporter": "python",
   "pygments_lexer": "ipython3",
   "version": "3.7.3"
  }
 },
 "nbformat": 4,
 "nbformat_minor": 2
}
